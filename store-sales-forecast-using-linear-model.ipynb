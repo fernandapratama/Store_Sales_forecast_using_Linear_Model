{
 "cells": [
  {
   "cell_type": "code",
   "execution_count": 1,
   "id": "48577757",
   "metadata": {
    "_cell_guid": "b1076dfc-b9ad-4769-8c92-a6c4dae69d19",
    "_uuid": "8f2839f25d086af736a60e9eeb907d3b93b6e0e5",
    "execution": {
     "iopub.execute_input": "2021-10-17T11:42:35.974422Z",
     "iopub.status.busy": "2021-10-17T11:42:35.973739Z",
     "iopub.status.idle": "2021-10-17T11:42:35.982651Z",
     "shell.execute_reply": "2021-10-17T11:42:35.981798Z",
     "shell.execute_reply.started": "2021-10-17T11:39:45.176925Z"
    },
    "papermill": {
     "duration": 0.040873,
     "end_time": "2021-10-17T11:42:35.982889",
     "exception": false,
     "start_time": "2021-10-17T11:42:35.942016",
     "status": "completed"
    },
    "tags": []
   },
   "outputs": [
    {
     "name": "stdout",
     "output_type": "stream",
     "text": [
      "/kaggle/input/store-sales-time-series-forecasting/oil.csv\n",
      "/kaggle/input/store-sales-time-series-forecasting/sample_submission.csv\n",
      "/kaggle/input/store-sales-time-series-forecasting/holidays_events.csv\n",
      "/kaggle/input/store-sales-time-series-forecasting/stores.csv\n",
      "/kaggle/input/store-sales-time-series-forecasting/train.csv\n",
      "/kaggle/input/store-sales-time-series-forecasting/test.csv\n",
      "/kaggle/input/store-sales-time-series-forecasting/transactions.csv\n"
     ]
    }
   ],
   "source": [
    "# This Python 3 environment comes with many helpful analytics libraries installed\n",
    "# It is defined by the kaggle/python Docker image: https://github.com/kaggle/docker-python\n",
    "# For example, here's several helpful packages to load\n",
    "\n",
    "import numpy as np # linear algebra\n",
    "import pandas as pd # data processing, CSV file I/O (e.g. pd.read_csv)\n",
    "\n",
    "# Input data files are available in the read-only \"../input/\" directory\n",
    "# For example, running this (by clicking run or pressing Shift+Enter) will list all files under the input directory\n",
    "\n",
    "import os\n",
    "for dirname, _, filenames in os.walk('/kaggle/input'):\n",
    "    for filename in filenames:\n",
    "        print(os.path.join(dirname, filename))\n",
    "\n",
    "# You can write up to 20GB to the current directory (/kaggle/working/) that gets preserved as output when you create a version using \"Save & Run All\" \n",
    "# You can also write temporary files to /kaggle/temp/, but they won't be saved outside of the current session"
   ]
  },
  {
   "cell_type": "code",
   "execution_count": 2,
   "id": "ffb924c2",
   "metadata": {
    "execution": {
     "iopub.execute_input": "2021-10-17T11:42:36.022050Z",
     "iopub.status.busy": "2021-10-17T11:42:36.021361Z",
     "iopub.status.idle": "2021-10-17T11:42:36.876723Z",
     "shell.execute_reply": "2021-10-17T11:42:36.877364Z",
     "shell.execute_reply.started": "2021-10-17T11:39:45.209496Z"
    },
    "papermill": {
     "duration": 0.876905,
     "end_time": "2021-10-17T11:42:36.877544",
     "exception": false,
     "start_time": "2021-10-17T11:42:36.000639",
     "status": "completed"
    },
    "tags": []
   },
   "outputs": [],
   "source": [
    "import pandas as pd\n",
    "import matplotlib.pyplot as plt\n",
    "import numpy as np\n",
    "import time\n",
    "import seaborn as sn"
   ]
  },
  {
   "cell_type": "code",
   "execution_count": 3,
   "id": "27ccb2e2",
   "metadata": {
    "execution": {
     "iopub.execute_input": "2021-10-17T11:42:36.913346Z",
     "iopub.status.busy": "2021-10-17T11:42:36.912706Z",
     "iopub.status.idle": "2021-10-17T11:42:39.979474Z",
     "shell.execute_reply": "2021-10-17T11:42:39.980022Z",
     "shell.execute_reply.started": "2021-10-17T11:39:46.079950Z"
    },
    "papermill": {
     "duration": 3.086206,
     "end_time": "2021-10-17T11:42:39.980212",
     "exception": false,
     "start_time": "2021-10-17T11:42:36.894006",
     "status": "completed"
    },
    "tags": []
   },
   "outputs": [],
   "source": [
    "dtrain = pd.read_csv(\"../input/store-sales-time-series-forecasting/train.csv\")\n",
    "dtest = pd.read_csv(\"../input/store-sales-time-series-forecasting/test.csv\")"
   ]
  },
  {
   "cell_type": "code",
   "execution_count": 4,
   "id": "5037e790",
   "metadata": {
    "execution": {
     "iopub.execute_input": "2021-10-17T11:42:40.016765Z",
     "iopub.status.busy": "2021-10-17T11:42:40.016061Z",
     "iopub.status.idle": "2021-10-17T11:42:40.035418Z",
     "shell.execute_reply": "2021-10-17T11:42:40.035927Z",
     "shell.execute_reply.started": "2021-10-17T11:39:49.187051Z"
    },
    "papermill": {
     "duration": 0.039149,
     "end_time": "2021-10-17T11:42:40.036097",
     "exception": false,
     "start_time": "2021-10-17T11:42:39.996948",
     "status": "completed"
    },
    "tags": []
   },
   "outputs": [
    {
     "data": {
      "text/html": [
       "<div>\n",
       "<style scoped>\n",
       "    .dataframe tbody tr th:only-of-type {\n",
       "        vertical-align: middle;\n",
       "    }\n",
       "\n",
       "    .dataframe tbody tr th {\n",
       "        vertical-align: top;\n",
       "    }\n",
       "\n",
       "    .dataframe thead th {\n",
       "        text-align: right;\n",
       "    }\n",
       "</style>\n",
       "<table border=\"1\" class=\"dataframe\">\n",
       "  <thead>\n",
       "    <tr style=\"text-align: right;\">\n",
       "      <th></th>\n",
       "      <th>id</th>\n",
       "      <th>date</th>\n",
       "      <th>store_nbr</th>\n",
       "      <th>family</th>\n",
       "      <th>sales</th>\n",
       "      <th>onpromotion</th>\n",
       "    </tr>\n",
       "  </thead>\n",
       "  <tbody>\n",
       "    <tr>\n",
       "      <th>3000883</th>\n",
       "      <td>3000883</td>\n",
       "      <td>2017-08-15</td>\n",
       "      <td>9</td>\n",
       "      <td>POULTRY</td>\n",
       "      <td>438.133</td>\n",
       "      <td>15.0</td>\n",
       "    </tr>\n",
       "    <tr>\n",
       "      <th>3000884</th>\n",
       "      <td>3000884</td>\n",
       "      <td>2017-08-15</td>\n",
       "      <td>9</td>\n",
       "      <td>PREPARED FOODS</td>\n",
       "      <td>154.553</td>\n",
       "      <td>8.0</td>\n",
       "    </tr>\n",
       "    <tr>\n",
       "      <th>3000885</th>\n",
       "      <td>3000885</td>\n",
       "      <td>2017-08-15</td>\n",
       "      <td>9</td>\n",
       "      <td>PRODUCE</td>\n",
       "      <td>2419.729</td>\n",
       "      <td>148.0</td>\n",
       "    </tr>\n",
       "    <tr>\n",
       "      <th>3000886</th>\n",
       "      <td>3000886</td>\n",
       "      <td>2017-08-15</td>\n",
       "      <td>9</td>\n",
       "      <td>SCHOOL AND OFFICE SUPPLIES</td>\n",
       "      <td>121.000</td>\n",
       "      <td>10.0</td>\n",
       "    </tr>\n",
       "    <tr>\n",
       "      <th>3000887</th>\n",
       "      <td>3000887</td>\n",
       "      <td>2017-08-15</td>\n",
       "      <td>9</td>\n",
       "      <td>SEAFOOD</td>\n",
       "      <td>16.000</td>\n",
       "      <td>2.0</td>\n",
       "    </tr>\n",
       "  </tbody>\n",
       "</table>\n",
       "</div>"
      ],
      "text/plain": [
       "              id        date  store_nbr                      family     sales  \\\n",
       "3000883  3000883  2017-08-15          9                     POULTRY   438.133   \n",
       "3000884  3000884  2017-08-15          9              PREPARED FOODS   154.553   \n",
       "3000885  3000885  2017-08-15          9                     PRODUCE  2419.729   \n",
       "3000886  3000886  2017-08-15          9  SCHOOL AND OFFICE SUPPLIES   121.000   \n",
       "3000887  3000887  2017-08-15          9                     SEAFOOD    16.000   \n",
       "\n",
       "         onpromotion  \n",
       "3000883         15.0  \n",
       "3000884          8.0  \n",
       "3000885        148.0  \n",
       "3000886         10.0  \n",
       "3000887          2.0  "
      ]
     },
     "execution_count": 4,
     "metadata": {},
     "output_type": "execute_result"
    }
   ],
   "source": [
    "dtrain.tail()"
   ]
  },
  {
   "cell_type": "code",
   "execution_count": 5,
   "id": "f61a7b49",
   "metadata": {
    "execution": {
     "iopub.execute_input": "2021-10-17T11:42:40.072850Z",
     "iopub.status.busy": "2021-10-17T11:42:40.072193Z",
     "iopub.status.idle": "2021-10-17T11:42:40.082993Z",
     "shell.execute_reply": "2021-10-17T11:42:40.083454Z",
     "shell.execute_reply.started": "2021-10-17T11:39:49.212303Z"
    },
    "papermill": {
     "duration": 0.03082,
     "end_time": "2021-10-17T11:42:40.083626",
     "exception": false,
     "start_time": "2021-10-17T11:42:40.052806",
     "status": "completed"
    },
    "tags": []
   },
   "outputs": [
    {
     "data": {
      "text/html": [
       "<div>\n",
       "<style scoped>\n",
       "    .dataframe tbody tr th:only-of-type {\n",
       "        vertical-align: middle;\n",
       "    }\n",
       "\n",
       "    .dataframe tbody tr th {\n",
       "        vertical-align: top;\n",
       "    }\n",
       "\n",
       "    .dataframe thead th {\n",
       "        text-align: right;\n",
       "    }\n",
       "</style>\n",
       "<table border=\"1\" class=\"dataframe\">\n",
       "  <thead>\n",
       "    <tr style=\"text-align: right;\">\n",
       "      <th></th>\n",
       "      <th>id</th>\n",
       "      <th>date</th>\n",
       "      <th>store_nbr</th>\n",
       "      <th>family</th>\n",
       "      <th>onpromotion</th>\n",
       "    </tr>\n",
       "  </thead>\n",
       "  <tbody>\n",
       "    <tr>\n",
       "      <th>28507</th>\n",
       "      <td>3029395</td>\n",
       "      <td>2017-08-31</td>\n",
       "      <td>9</td>\n",
       "      <td>POULTRY</td>\n",
       "      <td>54.0</td>\n",
       "    </tr>\n",
       "    <tr>\n",
       "      <th>28508</th>\n",
       "      <td>3029396</td>\n",
       "      <td>2017-08-31</td>\n",
       "      <td>9</td>\n",
       "      <td>PREPARED FOODS</td>\n",
       "      <td>10.0</td>\n",
       "    </tr>\n",
       "    <tr>\n",
       "      <th>28509</th>\n",
       "      <td>3029397</td>\n",
       "      <td>2017-08-31</td>\n",
       "      <td>9</td>\n",
       "      <td>PRODUCE</td>\n",
       "      <td>302.0</td>\n",
       "    </tr>\n",
       "    <tr>\n",
       "      <th>28510</th>\n",
       "      <td>3029398</td>\n",
       "      <td>2017-08-31</td>\n",
       "      <td>9</td>\n",
       "      <td>SCHOOL AND OFFICE SUPPLIES</td>\n",
       "      <td>15.0</td>\n",
       "    </tr>\n",
       "    <tr>\n",
       "      <th>28511</th>\n",
       "      <td>3029399</td>\n",
       "      <td>2017-08-31</td>\n",
       "      <td>9</td>\n",
       "      <td>SEAFOOD</td>\n",
       "      <td>8.0</td>\n",
       "    </tr>\n",
       "  </tbody>\n",
       "</table>\n",
       "</div>"
      ],
      "text/plain": [
       "            id        date  store_nbr                      family  onpromotion\n",
       "28507  3029395  2017-08-31          9                     POULTRY         54.0\n",
       "28508  3029396  2017-08-31          9              PREPARED FOODS         10.0\n",
       "28509  3029397  2017-08-31          9                     PRODUCE        302.0\n",
       "28510  3029398  2017-08-31          9  SCHOOL AND OFFICE SUPPLIES         15.0\n",
       "28511  3029399  2017-08-31          9                     SEAFOOD          8.0"
      ]
     },
     "execution_count": 5,
     "metadata": {},
     "output_type": "execute_result"
    }
   ],
   "source": [
    "dtest.tail()"
   ]
  },
  {
   "cell_type": "code",
   "execution_count": 6,
   "id": "8c3e69eb",
   "metadata": {
    "execution": {
     "iopub.execute_input": "2021-10-17T11:42:40.123247Z",
     "iopub.status.busy": "2021-10-17T11:42:40.122561Z",
     "iopub.status.idle": "2021-10-17T11:42:42.580504Z",
     "shell.execute_reply": "2021-10-17T11:42:42.580990Z",
     "shell.execute_reply.started": "2021-10-17T11:39:49.226265Z"
    },
    "papermill": {
     "duration": 2.480335,
     "end_time": "2021-10-17T11:42:42.581175",
     "exception": false,
     "start_time": "2021-10-17T11:42:40.100840",
     "status": "completed"
    },
    "tags": []
   },
   "outputs": [
    {
     "name": "stdout",
     "output_type": "stream",
     "text": [
      "Data NULL: \n",
      " id             0\n",
      "date           0\n",
      "store_nbr      0\n",
      "family         0\n",
      "sales          0\n",
      "onpromotion    0\n",
      "dtype: int64\n",
      "\n",
      "Data duplicated:  0\n"
     ]
    }
   ],
   "source": [
    "print(\"Data NULL: \\n\", dtrain.isnull().sum())\n",
    "print(\"\\nData duplicated: \", dtrain.duplicated().sum())"
   ]
  },
  {
   "cell_type": "code",
   "execution_count": 7,
   "id": "ca8acc08",
   "metadata": {
    "execution": {
     "iopub.execute_input": "2021-10-17T11:42:42.644754Z",
     "iopub.status.busy": "2021-10-17T11:42:42.644038Z",
     "iopub.status.idle": "2021-10-17T11:42:43.019931Z",
     "shell.execute_reply": "2021-10-17T11:42:43.019357Z",
     "shell.execute_reply.started": "2021-10-17T11:39:51.739404Z"
    },
    "papermill": {
     "duration": 0.420282,
     "end_time": "2021-10-17T11:42:43.020079",
     "exception": false,
     "start_time": "2021-10-17T11:42:42.599797",
     "status": "completed"
    },
    "tags": []
   },
   "outputs": [
    {
     "data": {
      "text/html": [
       "<div>\n",
       "<style scoped>\n",
       "    .dataframe tbody tr th:only-of-type {\n",
       "        vertical-align: middle;\n",
       "    }\n",
       "\n",
       "    .dataframe tbody tr th {\n",
       "        vertical-align: top;\n",
       "    }\n",
       "\n",
       "    .dataframe thead th {\n",
       "        text-align: right;\n",
       "    }\n",
       "</style>\n",
       "<table border=\"1\" class=\"dataframe\">\n",
       "  <thead>\n",
       "    <tr style=\"text-align: right;\">\n",
       "      <th></th>\n",
       "      <th>id</th>\n",
       "      <th>store_nbr</th>\n",
       "      <th>sales</th>\n",
       "      <th>onpromotion</th>\n",
       "    </tr>\n",
       "  </thead>\n",
       "  <tbody>\n",
       "    <tr>\n",
       "      <th>count</th>\n",
       "      <td>3000888.0</td>\n",
       "      <td>3000888.0</td>\n",
       "      <td>3000888.0</td>\n",
       "      <td>3000888.0</td>\n",
       "    </tr>\n",
       "    <tr>\n",
       "      <th>mean</th>\n",
       "      <td>1500443.5</td>\n",
       "      <td>27.5</td>\n",
       "      <td>357.8</td>\n",
       "      <td>34.6</td>\n",
       "    </tr>\n",
       "    <tr>\n",
       "      <th>std</th>\n",
       "      <td>866281.9</td>\n",
       "      <td>15.6</td>\n",
       "      <td>1102.0</td>\n",
       "      <td>99.5</td>\n",
       "    </tr>\n",
       "    <tr>\n",
       "      <th>min</th>\n",
       "      <td>0.0</td>\n",
       "      <td>1.0</td>\n",
       "      <td>0.0</td>\n",
       "      <td>0.0</td>\n",
       "    </tr>\n",
       "    <tr>\n",
       "      <th>25%</th>\n",
       "      <td>750221.8</td>\n",
       "      <td>14.0</td>\n",
       "      <td>0.0</td>\n",
       "      <td>0.0</td>\n",
       "    </tr>\n",
       "    <tr>\n",
       "      <th>50%</th>\n",
       "      <td>1500443.5</td>\n",
       "      <td>27.5</td>\n",
       "      <td>11.0</td>\n",
       "      <td>1.0</td>\n",
       "    </tr>\n",
       "    <tr>\n",
       "      <th>75%</th>\n",
       "      <td>2250665.2</td>\n",
       "      <td>41.0</td>\n",
       "      <td>195.8</td>\n",
       "      <td>16.0</td>\n",
       "    </tr>\n",
       "    <tr>\n",
       "      <th>max</th>\n",
       "      <td>3000887.0</td>\n",
       "      <td>54.0</td>\n",
       "      <td>124717.0</td>\n",
       "      <td>1006.0</td>\n",
       "    </tr>\n",
       "  </tbody>\n",
       "</table>\n",
       "</div>"
      ],
      "text/plain": [
       "              id  store_nbr      sales  onpromotion\n",
       "count  3000888.0  3000888.0  3000888.0    3000888.0\n",
       "mean   1500443.5       27.5      357.8         34.6\n",
       "std     866281.9       15.6     1102.0         99.5\n",
       "min          0.0        1.0        0.0          0.0\n",
       "25%     750221.8       14.0        0.0          0.0\n",
       "50%    1500443.5       27.5       11.0          1.0\n",
       "75%    2250665.2       41.0      195.8         16.0\n",
       "max    3000887.0       54.0   124717.0       1006.0"
      ]
     },
     "execution_count": 7,
     "metadata": {},
     "output_type": "execute_result"
    }
   ],
   "source": [
    "round(dtrain.describe(),1)"
   ]
  },
  {
   "cell_type": "code",
   "execution_count": 8,
   "id": "c551b35a",
   "metadata": {
    "execution": {
     "iopub.execute_input": "2021-10-17T11:42:43.069941Z",
     "iopub.status.busy": "2021-10-17T11:42:43.069220Z",
     "iopub.status.idle": "2021-10-17T11:42:43.072373Z",
     "shell.execute_reply": "2021-10-17T11:42:43.073128Z",
     "shell.execute_reply.started": "2021-10-17T11:39:52.138117Z"
    },
    "papermill": {
     "duration": 0.034612,
     "end_time": "2021-10-17T11:42:43.073497",
     "exception": false,
     "start_time": "2021-10-17T11:42:43.038885",
     "status": "completed"
    },
    "tags": []
   },
   "outputs": [
    {
     "name": "stdout",
     "output_type": "stream",
     "text": [
      "<class 'pandas.core.frame.DataFrame'>\n",
      "RangeIndex: 3000888 entries, 0 to 3000887\n",
      "Data columns (total 6 columns):\n",
      " #   Column       Dtype  \n",
      "---  ------       -----  \n",
      " 0   id           int64  \n",
      " 1   date         object \n",
      " 2   store_nbr    int64  \n",
      " 3   family       object \n",
      " 4   sales        float64\n",
      " 5   onpromotion  float64\n",
      "dtypes: float64(2), int64(2), object(2)\n",
      "memory usage: 137.4+ MB\n"
     ]
    }
   ],
   "source": [
    "dtrain.info()"
   ]
  },
  {
   "cell_type": "code",
   "execution_count": 9,
   "id": "1fb853f9",
   "metadata": {
    "execution": {
     "iopub.execute_input": "2021-10-17T11:42:43.306185Z",
     "iopub.status.busy": "2021-10-17T11:42:43.305484Z",
     "iopub.status.idle": "2021-10-17T11:42:43.635805Z",
     "shell.execute_reply": "2021-10-17T11:42:43.635123Z",
     "shell.execute_reply.started": "2021-10-17T11:39:52.152836Z"
    },
    "papermill": {
     "duration": 0.542434,
     "end_time": "2021-10-17T11:42:43.635947",
     "exception": false,
     "start_time": "2021-10-17T11:42:43.093513",
     "status": "completed"
    },
    "tags": []
   },
   "outputs": [],
   "source": [
    "dtrain['date'] = pd.to_datetime(dtrain.date)"
   ]
  },
  {
   "cell_type": "code",
   "execution_count": 10,
   "id": "8fa650f7",
   "metadata": {
    "execution": {
     "iopub.execute_input": "2021-10-17T11:42:43.869316Z",
     "iopub.status.busy": "2021-10-17T11:42:43.868336Z",
     "iopub.status.idle": "2021-10-17T11:42:43.938301Z",
     "shell.execute_reply": "2021-10-17T11:42:43.937687Z",
     "shell.execute_reply.started": "2021-10-17T11:39:52.675459Z"
    },
    "papermill": {
     "duration": 0.283365,
     "end_time": "2021-10-17T11:42:43.938440",
     "exception": false,
     "start_time": "2021-10-17T11:42:43.655075",
     "status": "completed"
    },
    "tags": []
   },
   "outputs": [
    {
     "data": {
      "text/plain": [
       "array(['AUTOMOTIVE', 'BABY CARE', 'BEAUTY', 'BEVERAGES', 'BOOKS',\n",
       "       'BREAD/BAKERY', 'CELEBRATION', 'CLEANING', 'DAIRY', 'DELI', 'EGGS',\n",
       "       'FROZEN FOODS', 'GROCERY I', 'GROCERY II', 'HARDWARE',\n",
       "       'HOME AND KITCHEN I', 'HOME AND KITCHEN II', 'HOME APPLIANCES',\n",
       "       'HOME CARE', 'LADIESWEAR', 'LAWN AND GARDEN', 'LINGERIE',\n",
       "       'LIQUOR,WINE,BEER', 'MAGAZINES', 'MEATS', 'PERSONAL CARE',\n",
       "       'PET SUPPLIES', 'PLAYERS AND ELECTRONICS', 'POULTRY',\n",
       "       'PREPARED FOODS', 'PRODUCE', 'SCHOOL AND OFFICE SUPPLIES',\n",
       "       'SEAFOOD'], dtype=object)"
      ]
     },
     "execution_count": 10,
     "metadata": {},
     "output_type": "execute_result"
    }
   ],
   "source": [
    "dtrain.family.unique()"
   ]
  },
  {
   "cell_type": "code",
   "execution_count": 11,
   "id": "ee132a3d",
   "metadata": {
    "execution": {
     "iopub.execute_input": "2021-10-17T11:42:44.414715Z",
     "iopub.status.busy": "2021-10-17T11:42:44.413571Z",
     "iopub.status.idle": "2021-10-17T11:42:44.452370Z",
     "shell.execute_reply": "2021-10-17T11:42:44.451746Z",
     "shell.execute_reply.started": "2021-10-17T11:39:52.944318Z"
    },
    "papermill": {
     "duration": 0.494635,
     "end_time": "2021-10-17T11:42:44.452507",
     "exception": false,
     "start_time": "2021-10-17T11:42:43.957872",
     "status": "completed"
    },
    "tags": []
   },
   "outputs": [
    {
     "data": {
      "text/html": [
       "<div>\n",
       "<style scoped>\n",
       "    .dataframe tbody tr th:only-of-type {\n",
       "        vertical-align: middle;\n",
       "    }\n",
       "\n",
       "    .dataframe tbody tr th {\n",
       "        vertical-align: top;\n",
       "    }\n",
       "\n",
       "    .dataframe thead th {\n",
       "        text-align: right;\n",
       "    }\n",
       "</style>\n",
       "<table border=\"1\" class=\"dataframe\">\n",
       "  <thead>\n",
       "    <tr style=\"text-align: right;\">\n",
       "      <th></th>\n",
       "      <th>id</th>\n",
       "      <th>date</th>\n",
       "      <th>store_nbr</th>\n",
       "      <th>family</th>\n",
       "      <th>sales</th>\n",
       "      <th>onpromotion</th>\n",
       "    </tr>\n",
       "  </thead>\n",
       "  <tbody>\n",
       "    <tr>\n",
       "      <th>5</th>\n",
       "      <td>5</td>\n",
       "      <td>2013-01-01</td>\n",
       "      <td>1</td>\n",
       "      <td>BREAD/BAKERY</td>\n",
       "      <td>0.000</td>\n",
       "      <td>0.0</td>\n",
       "    </tr>\n",
       "    <tr>\n",
       "      <th>38</th>\n",
       "      <td>38</td>\n",
       "      <td>2013-01-01</td>\n",
       "      <td>10</td>\n",
       "      <td>BREAD/BAKERY</td>\n",
       "      <td>0.000</td>\n",
       "      <td>0.0</td>\n",
       "    </tr>\n",
       "    <tr>\n",
       "      <th>71</th>\n",
       "      <td>71</td>\n",
       "      <td>2013-01-01</td>\n",
       "      <td>11</td>\n",
       "      <td>BREAD/BAKERY</td>\n",
       "      <td>0.000</td>\n",
       "      <td>0.0</td>\n",
       "    </tr>\n",
       "    <tr>\n",
       "      <th>104</th>\n",
       "      <td>104</td>\n",
       "      <td>2013-01-01</td>\n",
       "      <td>12</td>\n",
       "      <td>BREAD/BAKERY</td>\n",
       "      <td>0.000</td>\n",
       "      <td>0.0</td>\n",
       "    </tr>\n",
       "    <tr>\n",
       "      <th>137</th>\n",
       "      <td>137</td>\n",
       "      <td>2013-01-01</td>\n",
       "      <td>13</td>\n",
       "      <td>BREAD/BAKERY</td>\n",
       "      <td>0.000</td>\n",
       "      <td>0.0</td>\n",
       "    </tr>\n",
       "    <tr>\n",
       "      <th>...</th>\n",
       "      <td>...</td>\n",
       "      <td>...</td>\n",
       "      <td>...</td>\n",
       "      <td>...</td>\n",
       "      <td>...</td>\n",
       "      <td>...</td>\n",
       "    </tr>\n",
       "    <tr>\n",
       "      <th>3000728</th>\n",
       "      <td>3000728</td>\n",
       "      <td>2017-08-15</td>\n",
       "      <td>54</td>\n",
       "      <td>BREAD/BAKERY</td>\n",
       "      <td>304.000</td>\n",
       "      <td>41.0</td>\n",
       "    </tr>\n",
       "    <tr>\n",
       "      <th>3000761</th>\n",
       "      <td>3000761</td>\n",
       "      <td>2017-08-15</td>\n",
       "      <td>6</td>\n",
       "      <td>BREAD/BAKERY</td>\n",
       "      <td>499.485</td>\n",
       "      <td>81.0</td>\n",
       "    </tr>\n",
       "    <tr>\n",
       "      <th>3000794</th>\n",
       "      <td>3000794</td>\n",
       "      <td>2017-08-15</td>\n",
       "      <td>7</td>\n",
       "      <td>BREAD/BAKERY</td>\n",
       "      <td>659.156</td>\n",
       "      <td>75.0</td>\n",
       "    </tr>\n",
       "    <tr>\n",
       "      <th>3000827</th>\n",
       "      <td>3000827</td>\n",
       "      <td>2017-08-15</td>\n",
       "      <td>8</td>\n",
       "      <td>BREAD/BAKERY</td>\n",
       "      <td>740.434</td>\n",
       "      <td>89.0</td>\n",
       "    </tr>\n",
       "    <tr>\n",
       "      <th>3000860</th>\n",
       "      <td>3000860</td>\n",
       "      <td>2017-08-15</td>\n",
       "      <td>9</td>\n",
       "      <td>BREAD/BAKERY</td>\n",
       "      <td>528.000</td>\n",
       "      <td>71.0</td>\n",
       "    </tr>\n",
       "  </tbody>\n",
       "</table>\n",
       "<p>90936 rows × 6 columns</p>\n",
       "</div>"
      ],
      "text/plain": [
       "              id       date  store_nbr        family    sales  onpromotion\n",
       "5              5 2013-01-01          1  BREAD/BAKERY    0.000          0.0\n",
       "38            38 2013-01-01         10  BREAD/BAKERY    0.000          0.0\n",
       "71            71 2013-01-01         11  BREAD/BAKERY    0.000          0.0\n",
       "104          104 2013-01-01         12  BREAD/BAKERY    0.000          0.0\n",
       "137          137 2013-01-01         13  BREAD/BAKERY    0.000          0.0\n",
       "...          ...        ...        ...           ...      ...          ...\n",
       "3000728  3000728 2017-08-15         54  BREAD/BAKERY  304.000         41.0\n",
       "3000761  3000761 2017-08-15          6  BREAD/BAKERY  499.485         81.0\n",
       "3000794  3000794 2017-08-15          7  BREAD/BAKERY  659.156         75.0\n",
       "3000827  3000827 2017-08-15          8  BREAD/BAKERY  740.434         89.0\n",
       "3000860  3000860 2017-08-15          9  BREAD/BAKERY  528.000         71.0\n",
       "\n",
       "[90936 rows x 6 columns]"
      ]
     },
     "execution_count": 11,
     "metadata": {},
     "output_type": "execute_result"
    }
   ],
   "source": [
    "bread_df = dtrain[dtrain.family == 'BREAD/BAKERY']\n",
    "bread_df"
   ]
  },
  {
   "cell_type": "code",
   "execution_count": 12,
   "id": "e7a36f97",
   "metadata": {
    "execution": {
     "iopub.execute_input": "2021-10-17T11:42:44.498750Z",
     "iopub.status.busy": "2021-10-17T11:42:44.497726Z",
     "iopub.status.idle": "2021-10-17T11:42:44.511799Z",
     "shell.execute_reply": "2021-10-17T11:42:44.512249Z",
     "shell.execute_reply.started": "2021-10-17T11:39:53.434481Z"
    },
    "papermill": {
     "duration": 0.040176,
     "end_time": "2021-10-17T11:42:44.512436",
     "exception": false,
     "start_time": "2021-10-17T11:42:44.472260",
     "status": "completed"
    },
    "tags": []
   },
   "outputs": [
    {
     "data": {
      "text/html": [
       "<div>\n",
       "<style scoped>\n",
       "    .dataframe tbody tr th:only-of-type {\n",
       "        vertical-align: middle;\n",
       "    }\n",
       "\n",
       "    .dataframe tbody tr th {\n",
       "        vertical-align: top;\n",
       "    }\n",
       "\n",
       "    .dataframe thead th {\n",
       "        text-align: right;\n",
       "    }\n",
       "</style>\n",
       "<table border=\"1\" class=\"dataframe\">\n",
       "  <thead>\n",
       "    <tr style=\"text-align: right;\">\n",
       "      <th></th>\n",
       "      <th>sales</th>\n",
       "    </tr>\n",
       "    <tr>\n",
       "      <th>date</th>\n",
       "      <th></th>\n",
       "    </tr>\n",
       "  </thead>\n",
       "  <tbody>\n",
       "    <tr>\n",
       "      <th>2013-01-01</th>\n",
       "      <td>180.58900</td>\n",
       "    </tr>\n",
       "    <tr>\n",
       "      <th>2013-01-02</th>\n",
       "      <td>26246.31900</td>\n",
       "    </tr>\n",
       "    <tr>\n",
       "      <th>2013-01-03</th>\n",
       "      <td>18456.48002</td>\n",
       "    </tr>\n",
       "    <tr>\n",
       "      <th>2013-01-04</th>\n",
       "      <td>16721.96901</td>\n",
       "    </tr>\n",
       "    <tr>\n",
       "      <th>2013-01-05</th>\n",
       "      <td>22367.76108</td>\n",
       "    </tr>\n",
       "    <tr>\n",
       "      <th>...</th>\n",
       "      <td>...</td>\n",
       "    </tr>\n",
       "    <tr>\n",
       "      <th>2017-08-11</th>\n",
       "      <td>28204.48600</td>\n",
       "    </tr>\n",
       "    <tr>\n",
       "      <th>2017-08-12</th>\n",
       "      <td>27403.54800</td>\n",
       "    </tr>\n",
       "    <tr>\n",
       "      <th>2017-08-13</th>\n",
       "      <td>33262.75700</td>\n",
       "    </tr>\n",
       "    <tr>\n",
       "      <th>2017-08-14</th>\n",
       "      <td>28002.45700</td>\n",
       "    </tr>\n",
       "    <tr>\n",
       "      <th>2017-08-15</th>\n",
       "      <td>29158.19502</td>\n",
       "    </tr>\n",
       "  </tbody>\n",
       "</table>\n",
       "<p>1684 rows × 1 columns</p>\n",
       "</div>"
      ],
      "text/plain": [
       "                  sales\n",
       "date                   \n",
       "2013-01-01    180.58900\n",
       "2013-01-02  26246.31900\n",
       "2013-01-03  18456.48002\n",
       "2013-01-04  16721.96901\n",
       "2013-01-05  22367.76108\n",
       "...                 ...\n",
       "2017-08-11  28204.48600\n",
       "2017-08-12  27403.54800\n",
       "2017-08-13  33262.75700\n",
       "2017-08-14  28002.45700\n",
       "2017-08-15  29158.19502\n",
       "\n",
       "[1684 rows x 1 columns]"
      ]
     },
     "execution_count": 12,
     "metadata": {},
     "output_type": "execute_result"
    }
   ],
   "source": [
    "bread_df = bread_df.groupby(bread_df.date)['sales'].sum().reset_index()\n",
    "#bread_df = pd.DataFrame(frozenfood_df)\n",
    "bread_df.set_index('date',inplace=True)\n",
    "bread_df"
   ]
  },
  {
   "cell_type": "code",
   "execution_count": 13,
   "id": "70c05171",
   "metadata": {
    "execution": {
     "iopub.execute_input": "2021-10-17T11:42:44.559109Z",
     "iopub.status.busy": "2021-10-17T11:42:44.558144Z",
     "iopub.status.idle": "2021-10-17T11:42:44.954437Z",
     "shell.execute_reply": "2021-10-17T11:42:44.954960Z",
     "shell.execute_reply.started": "2021-10-17T11:39:53.454724Z"
    },
    "papermill": {
     "duration": 0.42258,
     "end_time": "2021-10-17T11:42:44.955137",
     "exception": false,
     "start_time": "2021-10-17T11:42:44.532557",
     "status": "completed"
    },
    "tags": []
   },
   "outputs": [
    {
     "data": {
      "image/png": "[encoded data removed]",
      "text/plain": [
       "<Figure size 1440x360 with 1 Axes>"
      ]
     },
     "metadata": {
      "needs_background": "light"
     },
     "output_type": "display_data"
    }
   ],
   "source": [
    "sample = bread_df['sales'].resample('W').mean()\n",
    "\n",
    "plt.figure(figsize=(20,5))\n",
    "plt.plot(sample)\n",
    "plt.xlabel('Month')\n",
    "plt.ylabel('Sales')\n",
    "plt.show()"
   ]
  },
  {
   "cell_type": "markdown",
   "id": "e83a11d9",
   "metadata": {
    "papermill": {
     "duration": 0.021791,
     "end_time": "2021-10-17T11:42:44.999371",
     "exception": false,
     "start_time": "2021-10-17T11:42:44.977580",
     "status": "completed"
    },
    "tags": []
   },
   "source": [
    "### Model"
   ]
  },
  {
   "cell_type": "code",
   "execution_count": 14,
   "id": "4b2fd5c1",
   "metadata": {
    "execution": {
     "iopub.execute_input": "2021-10-17T11:42:45.047483Z",
     "iopub.status.busy": "2021-10-17T11:42:45.046864Z",
     "iopub.status.idle": "2021-10-17T11:42:45.086202Z",
     "shell.execute_reply": "2021-10-17T11:42:45.087014Z",
     "shell.execute_reply.started": "2021-10-17T11:39:53.804383Z"
    },
    "papermill": {
     "duration": 0.06548,
     "end_time": "2021-10-17T11:42:45.087272",
     "exception": false,
     "start_time": "2021-10-17T11:42:45.021792",
     "status": "completed"
    },
    "tags": []
   },
   "outputs": [
    {
     "name": "stdout",
     "output_type": "stream",
     "text": [
      "(232, 10)\n",
      "(232,)\n"
     ]
    }
   ],
   "source": [
    "data = bread_df.sales.resample('W').mean()\n",
    "T = 10\n",
    "X = []\n",
    "Y = []\n",
    "\n",
    "for i in range(len(data)-T):\n",
    "    x = data[i:i+T]\n",
    "    X.append(x)\n",
    "    y = data[i+T]\n",
    "    Y.append(y)\n",
    "    \n",
    "X = np.array(X).reshape(-1, T)\n",
    "Y = np.array(Y)\n",
    "\n",
    "print(X.shape)\n",
    "print(Y.shape)"
   ]
  },
  {
   "cell_type": "code",
   "execution_count": 15,
   "id": "280ee8aa",
   "metadata": {
    "execution": {
     "iopub.execute_input": "2021-10-17T11:42:45.138034Z",
     "iopub.status.busy": "2021-10-17T11:42:45.137318Z",
     "iopub.status.idle": "2021-10-17T11:42:55.278475Z",
     "shell.execute_reply": "2021-10-17T11:42:55.279245Z",
     "shell.execute_reply.started": "2021-10-17T11:39:53.849674Z"
    },
    "papermill": {
     "duration": 10.16787,
     "end_time": "2021-10-17T11:42:55.279415",
     "exception": false,
     "start_time": "2021-10-17T11:42:45.111545",
     "status": "completed"
    },
    "tags": []
   },
   "outputs": [
    {
     "name": "stderr",
     "output_type": "stream",
     "text": [
      "\n",
      "User settings:\n",
      "\n",
      "   KMP_AFFINITY=granularity=fine,verbose,compact,1,0\n",
      "   KMP_BLOCKTIME=0\n",
      "   KMP_SETTINGS=1\n",
      "   KMP_WARNINGS=0\n",
      "\n",
      "Effective settings:\n",
      "\n",
      "   KMP_ABORT_DELAY=0\n",
      "   KMP_ADAPTIVE_LOCK_PROPS='1,1024'\n",
      "   KMP_ALIGN_ALLOC=64\n",
      "   KMP_ALL_THREADPRIVATE=128\n",
      "   KMP_ATOMIC_MODE=2\n",
      "   KMP_BLOCKTIME=0\n",
      "   KMP_CPUINFO_FILE: value is not defined\n",
      "   KMP_DETERMINISTIC_REDUCTION=false\n",
      "   KMP_DEVICE_THREAD_LIMIT=2147483647\n",
      "   KMP_DISP_NUM_BUFFERS=7\n",
      "   KMP_DUPLICATE_LIB_OK=false\n",
      "   KMP_ENABLE_TASK_THROTTLING=true\n",
      "   KMP_FORCE_REDUCTION: value is not defined\n",
      "   KMP_FOREIGN_THREADS_THREADPRIVATE=true\n",
      "   KMP_FORKJOIN_BARRIER='2,2'\n",
      "   KMP_FORKJOIN_BARRIER_PATTERN='hyper,hyper'\n",
      "   KMP_GTID_MODE=3\n",
      "   KMP_HANDLE_SIGNALS=false\n",
      "   KMP_HOT_TEAMS_MAX_LEVEL=1\n",
      "   KMP_HOT_TEAMS_MODE=0\n",
      "   KMP_INIT_AT_FORK=true\n",
      "   KMP_LIBRARY=throughput\n",
      "   KMP_LOCK_KIND=queuing\n",
      "   KMP_MALLOC_POOL_INCR=1M\n",
      "   KMP_NUM_LOCKS_IN_BLOCK=1\n",
      "   KMP_PLAIN_BARRIER='2,2'\n",
      "   KMP_PLAIN_BARRIER_PATTERN='hyper,hyper'\n",
      "   KMP_REDUCTION_BARRIER='1,1'\n",
      "   KMP_REDUCTION_BARRIER_PATTERN='hyper,hyper'\n",
      "   KMP_SCHEDULE='static,balanced;guided,iterative'\n",
      "   KMP_SETTINGS=true\n",
      "   KMP_SPIN_BACKOFF_PARAMS='4096,100'\n",
      "   KMP_STACKOFFSET=64\n",
      "   KMP_STACKPAD=0\n",
      "   KMP_STACKSIZE=8M\n",
      "   KMP_STORAGE_MAP=false\n",
      "   KMP_TASKING=2\n",
      "   KMP_TASKLOOP_MIN_TASKS=0\n",
      "   KMP_TASK_STEALING_CONSTRAINT=1\n",
      "   KMP_TEAMS_THREAD_LIMIT=4\n",
      "   KMP_TOPOLOGY_METHOD=all\n",
      "   KMP_USE_YIELD=1\n",
      "   KMP_VERSION=false\n",
      "   KMP_WARNINGS=false\n",
      "   OMP_AFFINITY_FORMAT='OMP: pid %P tid %i thread %n bound to OS proc set {%A}'\n",
      "   OMP_ALLOCATOR=omp_default_mem_alloc\n",
      "   OMP_CANCELLATION=false\n",
      "   OMP_DEFAULT_DEVICE=0\n",
      "   OMP_DISPLAY_AFFINITY=false\n",
      "   OMP_DISPLAY_ENV=false\n",
      "   OMP_DYNAMIC=false\n",
      "   OMP_MAX_ACTIVE_LEVELS=1\n",
      "   OMP_MAX_TASK_PRIORITY=0\n",
      "   OMP_NESTED: deprecated; max-active-levels-var=1\n",
      "   OMP_NUM_THREADS: value is not defined\n",
      "   OMP_PLACES: value is not defined\n",
      "   OMP_PROC_BIND='intel'\n",
      "   OMP_SCHEDULE='static'\n",
      "   OMP_STACKSIZE=8M\n",
      "   OMP_TARGET_OFFLOAD=DEFAULT\n",
      "   OMP_THREAD_LIMIT=2147483647\n",
      "   OMP_WAIT_POLICY=PASSIVE\n",
      "   KMP_AFFINITY='verbose,warnings,respect,granularity=fine,compact,1,0'\n",
      "\n",
      "2021-10-17 11:42:50.568041: I tensorflow/core/common_runtime/process_util.cc:146] Creating new thread pool with default inter op setting: 2. Tune using inter_op_parallelism_threads for best performance.\n",
      "2021-10-17 11:42:50.695357: I tensorflow/compiler/mlir/mlir_graph_optimization_pass.cc:185] None of the MLIR Optimization Passes are enabled (registered 2)\n"
     ]
    },
    {
     "name": "stdout",
     "output_type": "stream",
     "text": [
      "Epoch 1/200\n",
      "6/6 [==============================] - 1s 37ms/step - loss: 981202240.0000 - mae: 30900.6191 - val_loss: 1457028096.0000 - val_mae: 38062.4258\n",
      "Epoch 2/200\n",
      "6/6 [==============================] - 0s 7ms/step - loss: 892217920.0000 - mae: 29464.4883 - val_loss: 1323120256.0000 - val_mae: 36260.7812\n",
      "Epoch 3/200\n",
      "6/6 [==============================] - 0s 10ms/step - loss: 808848640.0000 - mae: 28043.5000 - val_loss: 1196782336.0000 - val_mae: 34474.7500\n",
      "Epoch 4/200\n",
      "6/6 [==============================] - 0s 7ms/step - loss: 730607296.0000 - mae: 26640.2559 - val_loss: 1078421760.0000 - val_mae: 32713.1367\n",
      "Epoch 5/200\n",
      "6/6 [==============================] - 0s 6ms/step - loss: 656674432.0000 - mae: 25253.4082 - val_loss: 968818944.0000 - val_mae: 30992.6875\n",
      "Epoch 6/200\n",
      "6/6 [==============================] - 0s 7ms/step - loss: 589559680.0000 - mae: 23907.9414 - val_loss: 867033152.0000 - val_mae: 29304.6035\n",
      "Epoch 7/200\n",
      "6/6 [==============================] - 0s 7ms/step - loss: 526189088.0000 - mae: 22582.2266 - val_loss: 773868608.0000 - val_mae: 27669.3594\n",
      "Epoch 8/200\n",
      "6/6 [==============================] - 0s 7ms/step - loss: 468671104.0000 - mae: 21301.4434 - val_loss: 688466496.0000 - val_mae: 26080.4238\n",
      "Epoch 9/200\n",
      "6/6 [==============================] - 0s 7ms/step - loss: 416215712.0000 - mae: 20062.4668 - val_loss: 610408640.0000 - val_mae: 24538.2793\n",
      "Epoch 10/200\n",
      "6/6 [==============================] - 0s 6ms/step - loss: 367717600.0000 - mae: 18851.0820 - val_loss: 539875968.0000 - val_mae: 23056.2383\n",
      "Epoch 11/200\n",
      "6/6 [==============================] - 0s 7ms/step - loss: 324763904.0000 - mae: 17691.7812 - val_loss: 475664032.0000 - val_mae: 21618.8242\n",
      "Epoch 12/200\n",
      "6/6 [==============================] - 0s 10ms/step - loss: 285195456.0000 - mae: 16568.4746 - val_loss: 418021632.0000 - val_mae: 20241.6875\n",
      "Epoch 13/200\n",
      "6/6 [==============================] - 0s 7ms/step - loss: 250123584.0000 - mae: 15495.7959 - val_loss: 366056640.0000 - val_mae: 18914.4160\n",
      "Epoch 14/200\n",
      "6/6 [==============================] - 0s 7ms/step - loss: 218287856.0000 - mae: 14464.8672 - val_loss: 319706528.0000 - val_mae: 17646.4980\n",
      "Epoch 15/200\n",
      "6/6 [==============================] - 0s 7ms/step - loss: 189933056.0000 - mae: 13474.1260 - val_loss: 278432608.0000 - val_mae: 16435.2871\n",
      "Epoch 16/200\n",
      "6/6 [==============================] - 0s 7ms/step - loss: 164968768.0000 - mae: 12529.0752 - val_loss: 241594128.0000 - val_mae: 15273.2979\n",
      "Epoch 17/200\n",
      "6/6 [==============================] - 0s 7ms/step - loss: 142790688.0000 - mae: 11630.7891 - val_loss: 208926944.0000 - val_mae: 14163.3232\n",
      "Epoch 18/200\n",
      "6/6 [==============================] - 0s 6ms/step - loss: 122940120.0000 - mae: 10765.8721 - val_loss: 180291488.0000 - val_mae: 13113.2578\n",
      "Epoch 19/200\n",
      "6/6 [==============================] - 0s 10ms/step - loss: 105794464.0000 - mae: 9955.7012 - val_loss: 155108128.0000 - val_mae: 12114.7598\n",
      "Epoch 20/200\n",
      "6/6 [==============================] - 0s 7ms/step - loss: 90751184.0000 - mae: 9178.3184 - val_loss: 133106800.0000 - val_mae: 11169.5723\n",
      "Epoch 21/200\n",
      "6/6 [==============================] - 0s 7ms/step - loss: 77415072.0000 - mae: 8450.0840 - val_loss: 114123576.0000 - val_mae: 10284.4316\n",
      "Epoch 22/200\n",
      "6/6 [==============================] - 0s 7ms/step - loss: 66176412.0000 - mae: 7761.3369 - val_loss: 97570592.0000 - val_mae: 9445.1104\n",
      "Epoch 23/200\n",
      "6/6 [==============================] - 0s 7ms/step - loss: 56314396.0000 - mae: 7117.5215 - val_loss: 83367472.0000 - val_mae: 8660.2949\n",
      "Epoch 24/200\n",
      "6/6 [==============================] - 0s 6ms/step - loss: 47757592.0000 - mae: 6514.1055 - val_loss: 71264992.0000 - val_mae: 7930.4624\n",
      "Epoch 25/200\n",
      "6/6 [==============================] - 0s 6ms/step - loss: 40654536.0000 - mae: 5951.8237 - val_loss: 60832436.0000 - val_mae: 7242.5029\n",
      "Epoch 26/200\n",
      "6/6 [==============================] - 0s 7ms/step - loss: 34517048.0000 - mae: 5430.8970 - val_loss: 51954484.0000 - val_mae: 6600.7842\n",
      "Epoch 27/200\n",
      "6/6 [==============================] - 0s 7ms/step - loss: 29305258.0000 - mae: 4950.2446 - val_loss: 44446532.0000 - val_mae: 6004.7593\n",
      "Epoch 28/200\n",
      "6/6 [==============================] - 0s 7ms/step - loss: 24869762.0000 - mae: 4503.4429 - val_loss: 38145884.0000 - val_mae: 5454.4961\n",
      "Epoch 29/200\n",
      "6/6 [==============================] - 0s 6ms/step - loss: 21222878.0000 - mae: 4098.1260 - val_loss: 32833868.0000 - val_mae: 4943.1606\n",
      "Epoch 30/200\n",
      "6/6 [==============================] - 0s 6ms/step - loss: 18130852.0000 - mae: 3726.2498 - val_loss: 28399582.0000 - val_mae: 4497.2114\n",
      "Epoch 31/200\n",
      "6/6 [==============================] - 0s 6ms/step - loss: 15601135.0000 - mae: 3396.2595 - val_loss: 24700542.0000 - val_mae: 4136.8755\n",
      "Epoch 32/200\n",
      "6/6 [==============================] - 0s 7ms/step - loss: 13494999.0000 - mae: 3104.1938 - val_loss: 21643060.0000 - val_mae: 3818.5408\n",
      "Epoch 33/200\n",
      "6/6 [==============================] - 0s 6ms/step - loss: 11769805.0000 - mae: 2851.2588 - val_loss: 19116766.0000 - val_mae: 3559.3525\n",
      "Epoch 34/200\n",
      "6/6 [==============================] - 0s 7ms/step - loss: 10305770.0000 - mae: 2646.4951 - val_loss: 17077018.0000 - val_mae: 3344.8210\n",
      "Epoch 35/200\n",
      "6/6 [==============================] - 0s 7ms/step - loss: 9188177.0000 - mae: 2462.7581 - val_loss: 15377646.0000 - val_mae: 3145.7498\n",
      "Epoch 36/200\n",
      "6/6 [==============================] - 0s 7ms/step - loss: 8236879.0000 - mae: 2309.3181 - val_loss: 14008787.0000 - val_mae: 2966.7815\n",
      "Epoch 37/200\n",
      "6/6 [==============================] - 0s 7ms/step - loss: 7487647.0000 - mae: 2181.6094 - val_loss: 12893454.0000 - val_mae: 2803.8604\n",
      "Epoch 38/200\n",
      "6/6 [==============================] - 0s 7ms/step - loss: 6873834.0000 - mae: 2068.4658 - val_loss: 11999859.0000 - val_mae: 2684.4019\n",
      "Epoch 39/200\n",
      "6/6 [==============================] - 0s 10ms/step - loss: 6363560.5000 - mae: 1986.4808 - val_loss: 11295225.0000 - val_mae: 2590.3879\n",
      "Epoch 40/200\n",
      "6/6 [==============================] - 0s 7ms/step - loss: 5993308.0000 - mae: 1920.3633 - val_loss: 10714753.0000 - val_mae: 2503.7556\n",
      "Epoch 41/200\n",
      "6/6 [==============================] - 0s 7ms/step - loss: 5705471.5000 - mae: 1863.2222 - val_loss: 10239365.0000 - val_mae: 2433.2805\n",
      "Epoch 42/200\n",
      "6/6 [==============================] - 0s 7ms/step - loss: 5461136.0000 - mae: 1823.5259 - val_loss: 9867266.0000 - val_mae: 2376.2297\n",
      "Epoch 43/200\n",
      "6/6 [==============================] - 0s 10ms/step - loss: 5253370.0000 - mae: 1783.7017 - val_loss: 9583663.0000 - val_mae: 2327.5105\n",
      "Epoch 44/200\n",
      "6/6 [==============================] - 0s 7ms/step - loss: 5113566.0000 - mae: 1755.4034 - val_loss: 9351126.0000 - val_mae: 2292.5640\n",
      "Epoch 45/200\n",
      "6/6 [==============================] - 0s 10ms/step - loss: 4994623.5000 - mae: 1736.7329 - val_loss: 9171032.0000 - val_mae: 2275.0750\n",
      "Epoch 46/200\n",
      "6/6 [==============================] - 0s 7ms/step - loss: 4896361.5000 - mae: 1715.7183 - val_loss: 9036912.0000 - val_mae: 2264.4612\n",
      "Epoch 47/200\n",
      "6/6 [==============================] - 0s 7ms/step - loss: 4840404.5000 - mae: 1705.0057 - val_loss: 8916568.0000 - val_mae: 2256.8601\n",
      "Epoch 48/200\n",
      "6/6 [==============================] - 0s 7ms/step - loss: 4783194.5000 - mae: 1696.5468 - val_loss: 8824614.0000 - val_mae: 2254.0488\n",
      "Epoch 49/200\n",
      "6/6 [==============================] - 0s 6ms/step - loss: 4743048.0000 - mae: 1691.0101 - val_loss: 8751043.0000 - val_mae: 2251.5452\n",
      "Epoch 50/200\n",
      "6/6 [==============================] - 0s 7ms/step - loss: 4714143.0000 - mae: 1687.4446 - val_loss: 8691239.0000 - val_mae: 2249.2764\n",
      "Epoch 51/200\n",
      "6/6 [==============================] - 0s 7ms/step - loss: 4694071.5000 - mae: 1686.4929 - val_loss: 8640863.0000 - val_mae: 2247.1414\n",
      "Epoch 52/200\n",
      "6/6 [==============================] - 0s 7ms/step - loss: 4672587.0000 - mae: 1684.7668 - val_loss: 8604781.0000 - val_mae: 2245.4368\n",
      "Epoch 53/200\n",
      "6/6 [==============================] - 0s 7ms/step - loss: 4659776.5000 - mae: 1683.2023 - val_loss: 8576445.0000 - val_mae: 2243.9590\n",
      "Epoch 54/200\n",
      "6/6 [==============================] - 0s 7ms/step - loss: 4652201.5000 - mae: 1683.3054 - val_loss: 8552892.0000 - val_mae: 2242.6086\n",
      "Epoch 55/200\n",
      "6/6 [==============================] - 0s 10ms/step - loss: 4647188.5000 - mae: 1684.2510 - val_loss: 8533403.0000 - val_mae: 2242.2632\n",
      "Epoch 56/200\n",
      "6/6 [==============================] - 0s 7ms/step - loss: 4638112.5000 - mae: 1683.4678 - val_loss: 8521765.0000 - val_mae: 2243.1130\n",
      "Epoch 57/200\n",
      "6/6 [==============================] - 0s 7ms/step - loss: 4636374.0000 - mae: 1684.2900 - val_loss: 8510088.0000 - val_mae: 2244.0320\n",
      "Epoch 58/200\n",
      "6/6 [==============================] - 0s 7ms/step - loss: 4632664.5000 - mae: 1684.0598 - val_loss: 8500872.0000 - val_mae: 2244.7910\n",
      "Epoch 59/200\n",
      "6/6 [==============================] - 0s 11ms/step - loss: 4629769.5000 - mae: 1684.3173 - val_loss: 8495648.0000 - val_mae: 2245.2075\n",
      "Epoch 60/200\n",
      "6/6 [==============================] - 0s 7ms/step - loss: 4628511.5000 - mae: 1684.4580 - val_loss: 8489814.0000 - val_mae: 2245.7095\n",
      "Epoch 61/200\n",
      "6/6 [==============================] - 0s 7ms/step - loss: 4627667.0000 - mae: 1684.9969 - val_loss: 8484309.0000 - val_mae: 2246.2078\n",
      "Epoch 62/200\n",
      "6/6 [==============================] - 0s 7ms/step - loss: 4626560.0000 - mae: 1685.2776 - val_loss: 8480118.0000 - val_mae: 2246.5745\n",
      "Epoch 63/200\n",
      "6/6 [==============================] - 0s 7ms/step - loss: 4625965.5000 - mae: 1685.6237 - val_loss: 8477082.0000 - val_mae: 2246.8291\n",
      "Epoch 64/200\n",
      "6/6 [==============================] - 0s 7ms/step - loss: 4625397.0000 - mae: 1685.7000 - val_loss: 8475325.0000 - val_mae: 2246.9294\n",
      "Epoch 65/200\n",
      "6/6 [==============================] - 0s 6ms/step - loss: 4625100.5000 - mae: 1685.9236 - val_loss: 8470981.0000 - val_mae: 2247.3584\n",
      "Epoch 66/200\n",
      "6/6 [==============================] - 0s 7ms/step - loss: 4624276.5000 - mae: 1686.2772 - val_loss: 8468035.0000 - val_mae: 2247.6304\n",
      "Epoch 67/200\n",
      "6/6 [==============================] - 0s 7ms/step - loss: 4625948.0000 - mae: 1687.2709 - val_loss: 8463613.0000 - val_mae: 2248.1226\n",
      "Epoch 68/200\n",
      "6/6 [==============================] - 0s 7ms/step - loss: 4624507.0000 - mae: 1686.8844 - val_loss: 8465108.0000 - val_mae: 2247.7944\n",
      "Epoch 69/200\n",
      "6/6 [==============================] - 0s 7ms/step - loss: 4623464.0000 - mae: 1686.6187 - val_loss: 8464373.0000 - val_mae: 2247.7771\n",
      "Epoch 70/200\n",
      "6/6 [==============================] - 0s 7ms/step - loss: 4622880.0000 - mae: 1686.6055 - val_loss: 8462890.0000 - val_mae: 2247.8608\n",
      "Epoch 71/200\n",
      "6/6 [==============================] - 0s 7ms/step - loss: 4623656.5000 - mae: 1687.1650 - val_loss: 8459394.0000 - val_mae: 2248.2449\n",
      "Epoch 72/200\n",
      "6/6 [==============================] - 0s 7ms/step - loss: 4622752.5000 - mae: 1687.0217 - val_loss: 8459739.0000 - val_mae: 2248.0640\n",
      "Epoch 73/200\n",
      "6/6 [==============================] - 0s 7ms/step - loss: 4622949.5000 - mae: 1687.2201 - val_loss: 8457519.0000 - val_mae: 2248.2620\n",
      "Epoch 74/200\n",
      "6/6 [==============================] - 0s 7ms/step - loss: 4621960.5000 - mae: 1686.8907 - val_loss: 8458451.0000 - val_mae: 2247.9871\n",
      "Epoch 75/200\n",
      "6/6 [==============================] - 0s 6ms/step - loss: 4622401.5000 - mae: 1687.1724 - val_loss: 8456786.0000 - val_mae: 2248.1030\n",
      "Epoch 76/200\n",
      "6/6 [==============================] - 0s 7ms/step - loss: 4622050.0000 - mae: 1686.9338 - val_loss: 8458703.0000 - val_mae: 2247.6890\n",
      "Epoch 77/200\n",
      "6/6 [==============================] - 0s 7ms/step - loss: 4621252.0000 - mae: 1686.5800 - val_loss: 8458093.0000 - val_mae: 2247.6414\n",
      "Epoch 78/200\n",
      "6/6 [==============================] - 0s 6ms/step - loss: 4621124.0000 - mae: 1686.7679 - val_loss: 8456282.0000 - val_mae: 2247.7732\n",
      "Epoch 79/200\n",
      "6/6 [==============================] - 0s 7ms/step - loss: 4620612.5000 - mae: 1686.6072 - val_loss: 8455237.0000 - val_mae: 2247.7910\n",
      "Epoch 80/200\n",
      "6/6 [==============================] - 0s 7ms/step - loss: 4621045.0000 - mae: 1686.8206 - val_loss: 8453800.0000 - val_mae: 2247.8704\n",
      "Epoch 81/200\n",
      "6/6 [==============================] - 0s 7ms/step - loss: 4619653.5000 - mae: 1686.6753 - val_loss: 8454829.0000 - val_mae: 2247.5764\n",
      "Epoch 82/200\n",
      "6/6 [==============================] - 0s 8ms/step - loss: 4620160.0000 - mae: 1686.2316 - val_loss: 8456167.0000 - val_mae: 2247.2446\n",
      "Epoch 83/200\n",
      "6/6 [==============================] - 0s 7ms/step - loss: 4619635.0000 - mae: 1686.1976 - val_loss: 8454052.0000 - val_mae: 2247.4109\n",
      "Epoch 84/200\n",
      "6/6 [==============================] - 0s 7ms/step - loss: 4620443.0000 - mae: 1686.8849 - val_loss: 8451855.0000 - val_mae: 2247.5930\n",
      "Epoch 85/200\n",
      "6/6 [==============================] - 0s 7ms/step - loss: 4621580.0000 - mae: 1686.4425 - val_loss: 8455578.0000 - val_mae: 2246.9065\n",
      "Epoch 86/200\n",
      "6/6 [==============================] - 0s 7ms/step - loss: 4619054.0000 - mae: 1685.7621 - val_loss: 8455989.0000 - val_mae: 2246.7073\n",
      "Epoch 87/200\n",
      "6/6 [==============================] - 0s 6ms/step - loss: 4617796.5000 - mae: 1685.5862 - val_loss: 8454026.0000 - val_mae: 2246.8435\n",
      "Epoch 88/200\n",
      "6/6 [==============================] - 0s 6ms/step - loss: 4617792.5000 - mae: 1685.8572 - val_loss: 8451483.0000 - val_mae: 2247.0627\n",
      "Epoch 89/200\n",
      "6/6 [==============================] - 0s 6ms/step - loss: 4617223.5000 - mae: 1685.9430 - val_loss: 8450212.0000 - val_mae: 2247.1052\n",
      "Epoch 90/200\n",
      "6/6 [==============================] - 0s 7ms/step - loss: 4616938.5000 - mae: 1686.0460 - val_loss: 8449137.0000 - val_mae: 2247.1189\n",
      "Epoch 91/200\n",
      "6/6 [==============================] - 0s 6ms/step - loss: 4617763.0000 - mae: 1686.0759 - val_loss: 8449643.0000 - val_mae: 2246.8950\n",
      "Epoch 92/200\n",
      "6/6 [==============================] - 0s 7ms/step - loss: 4617120.0000 - mae: 1686.1478 - val_loss: 8447206.0000 - val_mae: 2247.1016\n",
      "Epoch 93/200\n",
      "6/6 [==============================] - 0s 6ms/step - loss: 4616419.5000 - mae: 1686.2092 - val_loss: 8446572.0000 - val_mae: 2247.0471\n",
      "Epoch 94/200\n",
      "6/6 [==============================] - 0s 7ms/step - loss: 4616454.0000 - mae: 1686.2646 - val_loss: 8445190.0000 - val_mae: 2247.1030\n",
      "Epoch 95/200\n",
      "6/6 [==============================] - 0s 7ms/step - loss: 4615595.5000 - mae: 1685.8177 - val_loss: 8447061.0000 - val_mae: 2246.6655\n",
      "Epoch 96/200\n",
      "6/6 [==============================] - 0s 7ms/step - loss: 4615467.5000 - mae: 1685.8473 - val_loss: 8445555.0000 - val_mae: 2246.7336\n",
      "Epoch 97/200\n",
      "6/6 [==============================] - 0s 7ms/step - loss: 4616857.5000 - mae: 1685.5618 - val_loss: 8448738.0000 - val_mae: 2246.1199\n",
      "Epoch 98/200\n",
      "6/6 [==============================] - 0s 7ms/step - loss: 4615180.5000 - mae: 1685.0985 - val_loss: 8448971.0000 - val_mae: 2245.9299\n",
      "Epoch 99/200\n",
      "6/6 [==============================] - 0s 7ms/step - loss: 4615018.5000 - mae: 1684.9775 - val_loss: 8445358.0000 - val_mae: 2246.2847\n"
     ]
    }
   ],
   "source": [
    "### Autoregressive LINEAR MODEL\n",
    "import tensorflow as tf\n",
    "from tensorflow.keras.models import Model\n",
    "from tensorflow.keras.optimizers import Adam\n",
    "from tensorflow.keras import layers, callbacks\n",
    "\n",
    "N = int(0.2 * len(X))\n",
    "i = layers.Input(shape=(T,))\n",
    "x = layers.Dense(1)(i)\n",
    "model = Model(i, x)\n",
    "model.compile(loss='mse', \n",
    "              optimizer=Adam(0.001), \n",
    "              metrics=['mae'])\n",
    "\n",
    "early_stopping = callbacks.EarlyStopping(\n",
    "    monitor =\"val_loss\", \n",
    "    mode =\"min\", \n",
    "    patience=5\n",
    ")\n",
    "\n",
    "# train the RNN\n",
    "r = model.fit(X[:-N], Y[:-N], \n",
    "              epochs=200, \n",
    "              validation_data=(X[-N//2:], Y[-N//2:]), \n",
    "              callbacks=[early_stopping], shuffle=True)"
   ]
  },
  {
   "cell_type": "code",
   "execution_count": 16,
   "id": "a0efe20f",
   "metadata": {
    "execution": {
     "iopub.execute_input": "2021-10-17T11:42:55.460520Z",
     "iopub.status.busy": "2021-10-17T11:42:55.459910Z",
     "iopub.status.idle": "2021-10-17T11:42:55.706779Z",
     "shell.execute_reply": "2021-10-17T11:42:55.707275Z",
     "shell.execute_reply.started": "2021-10-17T11:40:04.622715Z"
    },
    "papermill": {
     "duration": 0.343519,
     "end_time": "2021-10-17T11:42:55.707453",
     "exception": false,
     "start_time": "2021-10-17T11:42:55.363934",
     "status": "completed"
    },
    "tags": []
   },
   "outputs": [
    {
     "data": {
      "text/plain": [
       "<matplotlib.legend.Legend at 0x7f41a41dbd50>"
      ]
     },
     "execution_count": 16,
     "metadata": {},
     "output_type": "execute_result"
    },
    {
     "data": {
      "image/png": "[encoded data removed]",
      "text/plain": [
       "<Figure size 720x360 with 1 Axes>"
      ]
     },
     "metadata": {
      "needs_background": "light"
     },
     "output_type": "display_data"
    }
   ],
   "source": [
    "# Plot loss per iteration\n",
    "plt.figure(figsize=(10,5))\n",
    "plt.plot(r.history['loss'], label='loss')\n",
    "plt.plot(r.history['val_loss'], label='val_loss')\n",
    "plt.legend()"
   ]
  },
  {
   "cell_type": "code",
   "execution_count": 17,
   "id": "31ce8efe",
   "metadata": {
    "execution": {
     "iopub.execute_input": "2021-10-17T11:42:55.880994Z",
     "iopub.status.busy": "2021-10-17T11:42:55.880353Z",
     "iopub.status.idle": "2021-10-17T11:42:56.260833Z",
     "shell.execute_reply": "2021-10-17T11:42:56.261387Z",
     "shell.execute_reply.started": "2021-10-17T11:40:04.836570Z"
    },
    "papermill": {
     "duration": 0.469106,
     "end_time": "2021-10-17T11:42:56.261574",
     "exception": false,
     "start_time": "2021-10-17T11:42:55.792468",
     "status": "completed"
    },
    "tags": []
   },
   "outputs": [
    {
     "name": "stdout",
     "output_type": "stream",
     "text": [
      "(92, 1)\n"
     ]
    },
    {
     "data": {
      "image/png": "[encoded data removed]",
      "text/plain": [
       "<Figure size 1440x360 with 1 Axes>"
      ]
     },
     "metadata": {
      "needs_background": "light"
     },
     "output_type": "display_data"
    }
   ],
   "source": [
    "N = int(0.4 * len(X))\n",
    "outputs = model.predict(X[-N:])\n",
    "print(outputs.shape)\n",
    "predictions = outputs[:,0]\n",
    "\n",
    "plt.figure(figsize=(20,5))\n",
    "plt.plot(Y[-N:], label='Observation')\n",
    "plt.plot(predictions, label='predictions')\n",
    "plt.title(\"Linear Regression Predictions\")\n",
    "plt.legend()\n",
    "plt.show()"
   ]
  },
  {
   "cell_type": "code",
   "execution_count": null,
   "id": "04ba6aaf",
   "metadata": {
    "papermill": {
     "duration": 0.089216,
     "end_time": "2021-10-17T11:42:56.439413",
     "exception": false,
     "start_time": "2021-10-17T11:42:56.350197",
     "status": "completed"
    },
    "tags": []
   },
   "outputs": [],
   "source": []
  }
 ],
 "metadata": {
  "kernelspec": {
   "display_name": "Python 3",
   "language": "python",
   "name": "python3"
  },
  "language_info": {
   "codemirror_mode": {
    "name": "ipython",
    "version": 3
   },
   "file_extension": ".py",
   "mimetype": "text/x-python",
   "name": "python",
   "nbconvert_exporter": "python",
   "pygments_lexer": "ipython3",
   "version": "3.7.10"
  },
  "papermill": {
   "default_parameters": {},
   "duration": 32.536805,
   "end_time": "2021-10-17T11:42:59.605769",
   "environment_variables": {},
   "exception": null,
   "input_path": "__notebook__.ipynb",
   "output_path": "__notebook__.ipynb",
   "parameters": {},
   "start_time": "2021-10-17T11:42:27.068964",
   "version": "2.3.3"
  }
 },
 "nbformat": 4,
 "nbformat_minor": 5
}
